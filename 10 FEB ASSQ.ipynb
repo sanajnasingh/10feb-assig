{
 "cells": [
  {
   "cell_type": "markdown",
   "id": "96261ab9-81b4-4aa4-bf9a-97f7429c7786",
   "metadata": {},
   "source": [
    "ANS 1"
   ]
  },
  {
   "cell_type": "code",
   "execution_count": null,
   "id": "0fd0318d-273c-4f5b-b093-7fb73db91f1a",
   "metadata": {},
   "outputs": [],
   "source": [
    "a - opens a file in append mode. r+ - opens a file in both read and write mode. a+ - opens a file in both read and write mode.\n",
    "w+ - opens a file in both read and write mode."
   ]
  },
  {
   "cell_type": "markdown",
   "id": "09d15452-2313-42d4-9c5f-e76097ed4d0c",
   "metadata": {},
   "source": [
    "ANS 2"
   ]
  },
  {
   "cell_type": "code",
   "execution_count": null,
   "id": "df4ce4aa-f893-4abe-8a66-7b01f2160cf8",
   "metadata": {},
   "outputs": [],
   "source": [
    "The close() method closes an open file. You should always close your files, in some cases, due to buffering, changes made to a file may\n",
    "not show until you close the file."
   ]
  },
  {
   "cell_type": "markdown",
   "id": "bcd4c1e3-bc3f-434b-b28f-b89fac4da263",
   "metadata": {},
   "source": [
    "ANS 3"
   ]
  },
  {
   "cell_type": "code",
   "execution_count": 7,
   "id": "66103245-7de7-4288-a3d0-09b15ac39d1e",
   "metadata": {},
   "outputs": [
    {
     "name": "stdout",
     "output_type": "stream",
     "text": [
      "i want to become data science master \n",
      "Hello \n",
      "i want to become data science master\n",
      "\n"
     ]
    }
   ],
   "source": [
    "file1 = open(\"myfile.txt\",\"w\")\n",
    "L=[\"i want to become data science master\"]\n",
    "    \n",
    "# \\n is placed to indicate EOL (End of Line)\n",
    "file1.write(\"Hello \\n\")\n",
    "file1.writelines(L)\n",
    "file1.close() #to change file access modes\n",
    " \n",
    "file1 = open(\"myfile.txt\",\"r+\")\n",
    "print(\"i want to become data science master \")\n",
    "print(file1.read())\n",
    "print()"
   ]
  },
  {
   "cell_type": "markdown",
   "id": "1d26eb03-9a26-4513-a9af-53b23ec27e6f",
   "metadata": {},
   "source": [
    "ANS 4"
   ]
  },
  {
   "cell_type": "markdown",
   "id": "53732e6f-d238-402e-876e-99827c3913ac",
   "metadata": {},
   "source": [
    "read() : This function reads the entire file and returns a string. readline() : This function reads lines from that file and returns as a string.\n",
    "The readlines() method returns a list containing each line in the file as a list item."
   ]
  },
  {
   "cell_type": "markdown",
   "id": "60615464-afa4-4864-a011-8173d86529e9",
   "metadata": {},
   "source": [
    "ANS 5"
   ]
  },
  {
   "cell_type": "code",
   "execution_count": null,
   "id": "f681d32d-ed4c-4f94-ad82-72a634395bb0",
   "metadata": {},
   "outputs": [],
   "source": [
    "The with statement works with the open() function to open a file. Unlike open() where you have to close the file with the close()\n",
    "method, the with statement closes the file foryou without you telling it to. This is because the with statement calls\n",
    "2 built-in methods behind the scene – __enter()__ and __exit()__ ."
   ]
  },
  {
   "cell_type": "markdown",
   "id": "ef34613c-a356-496b-b0ce-1af4786e9c56",
   "metadata": {},
   "source": [
    "ANS 6"
   ]
  },
  {
   "cell_type": "code",
   "execution_count": null,
   "id": "df17b607-3825-4f93-878a-430f41277499",
   "metadata": {},
   "outputs": [],
   "source": [
    "The write() method accepts a string as an argument and writes this string to the text file. Whereas, the writelines() method\n",
    "accepts an iterable i.e. a string or the list of strings as an argument and writes these strings to the text file."
   ]
  }
 ],
 "metadata": {
  "kernelspec": {
   "display_name": "Python 3 (ipykernel)",
   "language": "python",
   "name": "python3"
  },
  "language_info": {
   "codemirror_mode": {
    "name": "ipython",
    "version": 3
   },
   "file_extension": ".py",
   "mimetype": "text/x-python",
   "name": "python",
   "nbconvert_exporter": "python",
   "pygments_lexer": "ipython3",
   "version": "3.10.8"
  }
 },
 "nbformat": 4,
 "nbformat_minor": 5
}
